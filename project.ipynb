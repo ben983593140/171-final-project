{
 "cells": [
  {
   "cell_type": "code",
   "execution_count": 24,
   "metadata": {},
   "outputs": [
    {
     "name": "stdout",
     "output_type": "stream",
     "text": [
      "   Unnamed: 0    Year           Player  Pos   Age   Tm     G  GS  MP  PER  \\\n",
      "0           0  1950.0  Curly Armstrong  G-F  31.0  FTW  63.0 NaN NaN  NaN   \n",
      "1           1  1950.0     Cliff Barker   SG  29.0  INO  49.0 NaN NaN  NaN   \n",
      "2           2  1950.0    Leo Barnhorst   SF  25.0  CHS  67.0 NaN NaN  NaN   \n",
      "3           3  1950.0       Ed Bartels    F  24.0  TOT  15.0 NaN NaN  NaN   \n",
      "4           4  1950.0       Ed Bartels    F  24.0  DNN  13.0 NaN NaN  NaN   \n",
      "\n",
      "   ...    FT%  ORB  DRB  TRB    AST  STL  BLK  TOV     PF    PTS  \n",
      "0  ...  0.705  NaN  NaN  NaN  176.0  NaN  NaN  NaN  217.0  458.0  \n",
      "1  ...  0.708  NaN  NaN  NaN  109.0  NaN  NaN  NaN   99.0  279.0  \n",
      "2  ...  0.698  NaN  NaN  NaN  140.0  NaN  NaN  NaN  192.0  438.0  \n",
      "3  ...  0.559  NaN  NaN  NaN   20.0  NaN  NaN  NaN   29.0   63.0  \n",
      "4  ...  0.548  NaN  NaN  NaN   20.0  NaN  NaN  NaN   27.0   59.0  \n",
      "\n",
      "[5 rows x 53 columns]\n",
      "   Unnamed: 0    Year           Player  Pos   Age   Tm     G  GS  MP  PER  \\\n",
      "0           0  1950.0  Curly Armstrong  G-F  31.0  FTW  63.0 NaN NaN  NaN   \n",
      "1           1  1950.0     Cliff Barker   SG  29.0  INO  49.0 NaN NaN  NaN   \n",
      "2           2  1950.0    Leo Barnhorst   SF  25.0  CHS  67.0 NaN NaN  NaN   \n",
      "3           3  1950.0       Ed Bartels    F  24.0  TOT  15.0 NaN NaN  NaN   \n",
      "4           4  1950.0       Ed Bartels    F  24.0  DNN  13.0 NaN NaN  NaN   \n",
      "\n",
      "   ...    FT%  ORB  DRB  TRB    AST  STL  BLK  TOV     PF    PTS  \n",
      "0  ...  0.705  NaN  NaN  NaN  176.0  NaN  NaN  NaN  217.0  458.0  \n",
      "1  ...  0.708  NaN  NaN  NaN  109.0  NaN  NaN  NaN   99.0  279.0  \n",
      "2  ...  0.698  NaN  NaN  NaN  140.0  NaN  NaN  NaN  192.0  438.0  \n",
      "3  ...  0.559  NaN  NaN  NaN   20.0  NaN  NaN  NaN   29.0   63.0  \n",
      "4  ...  0.548  NaN  NaN  NaN   20.0  NaN  NaN  NaN   27.0   59.0  \n",
      "\n",
      "[5 rows x 53 columns]\n"
     ]
    }
   ],
   "source": [
    "import pandas as pd\n",
    "from sklearn.model_selection import train_test_split\n",
    "from sklearn.neural_network import MLPClassifier\n",
    "from sklearn.preprocessing import MinMaxScaler\n",
    "from sklearn.metrics import classification_report, confusion_matrix, multilabel_confusion_matrix\n",
    "from sklearn.metrics import mean_squared_error, accuracy_score, precision_score, recall_score\n",
    "\n",
    "\n",
    "# We might not need player_data.csv and players.csv since they are personal information that we can not make use of\n",
    "salary_20 = pd.read_csv(\"salary_0020.csv\")\n",
    "salary_17 = pd.read_csv(\"salary_1718.csv\")\n",
    "stats = pd.read_csv(\"1950/seasons_stats.csv\")\n",
    "print(stats.head(5))\n",
    "stats.drop(axis=1, index=0)\n",
    "print(stats.head(5))"
   ]
  }
 ],
 "metadata": {
  "kernelspec": {
   "display_name": "base",
   "language": "python",
   "name": "python3"
  },
  "language_info": {
   "codemirror_mode": {
    "name": "ipython",
    "version": 3
   },
   "file_extension": ".py",
   "mimetype": "text/x-python",
   "name": "python",
   "nbconvert_exporter": "python",
   "pygments_lexer": "ipython3",
   "version": "3.9.16"
  },
  "orig_nbformat": 4
 },
 "nbformat": 4,
 "nbformat_minor": 2
}
