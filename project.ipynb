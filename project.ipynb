{
 "cells": [
  {
   "cell_type": "code",
   "execution_count": 13,
   "metadata": {},
   "outputs": [
    {
     "name": "stdout",
     "output_type": "stream",
     "text": [
      "       Unnamed: 0    Year             Player Pos   Age   Tm     G    GS  \\\n",
      "24686       24686  2017.0        Cody Zeller  PF  24.0  CHO  62.0  58.0   \n",
      "24687       24687  2017.0       Tyler Zeller   C  27.0  BOS  51.0   5.0   \n",
      "24688       24688  2017.0  Stephen Zimmerman   C  20.0  ORL  19.0   0.0   \n",
      "24689       24689  2017.0        Paul Zipser  SF  22.0  CHI  44.0  18.0   \n",
      "24690       24690  2017.0        Ivica Zubac   C  19.0  LAL  38.0  11.0   \n",
      "\n",
      "           MP   PER    TS%   3PAr    FTr  ORB%  DRB%  TRB%  AST%  STL%  BLK%  \\\n",
      "24686  1725.0  16.7  0.604  0.002  0.442   8.6  17.3  12.9   9.1   1.8   3.0   \n",
      "24687   525.0  13.0  0.508  0.006  0.247   9.2  17.0  13.2  12.2   0.7   3.3   \n",
      "24688   108.0   7.3  0.346  0.000  0.161  10.8  24.9  17.6   5.3   0.9   3.7   \n",
      "24689   843.0   6.9  0.503  0.448  0.181   1.9  14.2   8.0   6.1   0.9   1.5   \n",
      "24690   609.0  17.0  0.547  0.013  0.206   7.1  21.9  14.3   8.1   1.1   4.4   \n",
      "\n",
      "       TOV%  USG%  blanl  OWS  DWS   WS  WS/48  blank2  OBPM  DBPM  BPM  VORP  \\\n",
      "24686  10.9  15.5    NaN  3.4  2.2  5.6  0.157     NaN  -0.2   2.3  2.1   1.8   \n",
      "24687  10.2  16.5    NaN  0.5  0.6  1.0  0.094     NaN  -3.2   0.8 -2.5  -0.1   \n",
      "24688   8.3  14.8    NaN -0.1  0.1  0.0 -0.005     NaN  -7.8   0.4 -7.3  -0.1   \n",
      "24689  14.4  14.4    NaN -0.3  0.8  0.5  0.030     NaN  -3.6  -0.1 -3.7  -0.4   \n",
      "24690  10.4  20.3    NaN  0.6  0.5  1.1  0.086     NaN  -2.7   0.3 -2.5  -0.1   \n",
      "\n",
      "          FG    FGA    FG%    3P   3PA    3P%     2P    2PA    2P%   eFG%  \\\n",
      "24686  253.0  443.0  0.571   0.0   1.0  0.000  253.0  442.0  0.572  0.571   \n",
      "24687   78.0  158.0  0.494   0.0   1.0  0.000   78.0  157.0  0.497  0.494   \n",
      "24688   10.0   31.0  0.323   0.0   0.0    NaN   10.0   31.0  0.323  0.323   \n",
      "24689   88.0  221.0  0.398  33.0  99.0  0.333   55.0  122.0  0.451  0.473   \n",
      "24690  126.0  238.0  0.529   0.0   3.0  0.000  126.0  235.0  0.536  0.529   \n",
      "\n",
      "          FT    FTA    FT%    ORB    DRB    TRB   AST   STL   BLK   TOV  \\\n",
      "24686  133.0  196.0  0.679  135.0  270.0  405.0  99.0  62.0  58.0  65.0   \n",
      "24687   22.0   39.0  0.564   43.0   81.0  124.0  42.0   7.0  21.0  20.0   \n",
      "24688    3.0    5.0  0.600   11.0   24.0   35.0   4.0   2.0   5.0   3.0   \n",
      "24689   31.0   40.0  0.775   15.0  110.0  125.0  36.0  15.0  16.0  40.0   \n",
      "24690   32.0   49.0  0.653   41.0  118.0  159.0  30.0  14.0  33.0  30.0   \n",
      "\n",
      "          PF    PTS  \n",
      "24686  189.0  639.0  \n",
      "24687   61.0  178.0  \n",
      "24688   17.0   23.0  \n",
      "24689   78.0  240.0  \n",
      "24690   66.0  284.0  \n"
     ]
    }
   ],
   "source": [
    "import pandas as pd\n",
    "from sklearn.model_selection import train_test_split\n",
    "from sklearn.neural_network import MLPClassifier\n",
    "from sklearn.preprocessing import MinMaxScaler\n",
    "from sklearn.metrics import classification_report, confusion_matrix, multilabel_confusion_matrix\n",
    "from sklearn.metrics import mean_squared_error, accuracy_score, precision_score, recall_score\n",
    "\n",
    "\n",
    "# We might not need player_data.csv and players.csv since they are personal information that we can not make use of\n",
    "salary_20 = pd.read_csv(\"salary_0020.csv\")\n",
    "salary_17 = pd.read_csv(\"salary_1718.csv\")\n",
    "stats = pd.read_csv(\"1950/seasons_stats.csv\")\n",
    "stats.drop(axis=1, index=0)\n",
    "pd.set_option('display.max_columns', None)\n",
    "print(stats.tail(5))\n",
    "\n",
    "# Append salary to the dataframe\n",
    "# Use the following attributes to fit models\n",
    "# age, G, GS, MP, PER, TS, FTr, ORB%, DRB%, TRB%, AST%  STL%  BLK% TOV%  USG%, OWS  DWS, WS  WS/48, VORP, OBPM  DBPM  BPM and everything afterwards"
   ]
  }
 ],
 "metadata": {
  "kernelspec": {
   "display_name": "base",
   "language": "python",
   "name": "python3"
  },
  "language_info": {
   "codemirror_mode": {
    "name": "ipython",
    "version": 3
   },
   "file_extension": ".py",
   "mimetype": "text/x-python",
   "name": "python",
   "nbconvert_exporter": "python",
   "pygments_lexer": "ipython3",
   "version": "3.9.16"
  },
  "orig_nbformat": 4
 },
 "nbformat": 4,
 "nbformat_minor": 2
}
