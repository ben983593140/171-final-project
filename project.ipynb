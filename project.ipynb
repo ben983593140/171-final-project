{
 "cells": [
  {
   "cell_type": "code",
   "execution_count": 47,
   "metadata": {
    "id": "xjOzdfDLlnRO"
   },
   "outputs": [],
   "source": [
    "# libraries\n",
    "import math\n",
    "import matplotlib.pyplot as plt\n",
    "import numpy as np\n",
    "import pandas as pd\n",
    "import seaborn as sb\n",
    "\n",
    "from IPython.display import display\n",
    "from numpy import where\n",
    "from sklearn import preprocessing\n",
    "from sklearn.linear_model import LinearRegression\n",
    "from sklearn.metrics import classification_report, confusion_matrix, multilabel_confusion_matrix\n",
    "from sklearn.metrics import mean_squared_error, accuracy_score, precision_score, recall_score, r2_score\n",
    "from sklearn.model_selection import train_test_split\n",
    "from sklearn.neural_network import MLPClassifier\n",
    "from sklearn.preprocessing import MinMaxScaler, PolynomialFeatures\n",
    "from sklearn.svm import OneClassSVM\n",
    "import operator"
   ]
  },
  {
   "cell_type": "code",
   "execution_count": 48,
   "metadata": {},
   "outputs": [],
   "source": [
    "# Constants\n",
    "TRAINING_YEAR = 2015\n",
    "TESTING_YEAR = 2017\n",
    "ATTRIBUTE_SIZE = 8"
   ]
  },
  {
   "cell_type": "code",
   "execution_count": 72,
   "metadata": {
    "id": "1NkGe4P6mfte"
   },
   "outputs": [],
   "source": [
    "# We might not need player_data.csv and players.csv since they are personal information that we can not make use of\n",
    "salary_20 = pd.read_csv(\"salary_0020.csv\")\n",
    "salary_17 = pd.read_csv(\"salary_1718.csv\")\n",
    "stats = pd.read_csv(\"1950/seasons_stats.csv\")\n",
    "stats = stats.drop(stats.columns[0], axis=1)\n",
    "pd.set_option('display.max_columns', None)\n",
    "\n",
    "\n",
    "# Append salary to the dataframe\n",
    "# Use the following attributes to fit models\n",
    "# age, G, GS, MP, PER, TS, FTr, ORB%, DRB%, TRB%, AST%  STL%  BLK% TOV%  USG%, OWS  DWS, WS  WS/48, VORP, OBPM  DBPM  BPM and everything afterwards\n",
    "\n",
    "team_names = {\n",
    "    \"Atlanta Hawks\":\"ATL\",\n",
    "    \"Boston Celtics\":\"BOS\",\n",
    "    \"Brooklyn Nets\":\"BKN\",\n",
    "    \"Charlotte Hornets\":\"CHA\",\n",
    "    \"Charlotte Bobcats\":\"CHB\",\n",
    "    \"Chicago Bulls\":\"CHI\",\n",
    "    \"Cleveland Cavaliers\":\"CLE\",\n",
    "    \"Dallas Mavericks\":\"DAL\",\n",
    "    \"Denver Nuggets\":\"DEN\",\n",
    "    \"Detroit Pistons\":\"DET\",\n",
    "    \"Golden State Warriors\":\"GSW\",\n",
    "    \"Houston Rockets\":\"HOU\",\n",
    "    \"Indiana Pacers\":\"IND\",\n",
    "    \"LA Clippers\":\"LAC\",\n",
    "    \"Los Angeles Clippers\": \"LAC\",\n",
    "    \"Los Angeles Lakers\":\"LAL\",\n",
    "    \"Memphis Grizzlies\":\"MEM\",\n",
    "    \"Miami Heat\":\"MIA\",\n",
    "    \"Milwaukee Bucks\":\"MIL\",\n",
    "    \"Minnesota Timberwolves\":\"MIN\",\n",
    "    \"New Orleans Pelicans\":\"NOP\",\n",
    "    \"New York Knicks\":\"NYK\",\n",
    "    \"Oklahoma City Thunder\":\"OKC\",\n",
    "    \"Orlando Magic\":\"ORL\",\n",
    "    \"Philadelphia 76ers\":\"PHI\",\n",
    "    \"Phoenix Suns\":\"PHX\",\n",
    "    \"Portland Trail Blazers\":\"POR\",\n",
    "    \"Sacramento Kings\":\"SAC\",\n",
    "    \"San Antonio Spurs\":\"SAS\",\n",
    "    \"Toronto Raptors\":\"TOR\",\n",
    "    \"Utah Jazz\":\"UTA\",\n",
    "    \"Washington Wizards\":\"WAS\",\n",
    "    \"Seattle SuperSonics\":\"SEA\",\n",
    "    \"Vancouver Grizzlies\":\"VAN\",\n",
    "    \"New Jersey Nets\":\"NJN\",\n",
    "    \"New Orleans Hornets\":\"NOK\",\n",
    "}\n",
    "\n",
    "unknowns = [\n",
    "    'Madrid Real Madrid',\n",
    "    \"null Unknown\",\n",
    "    \"NO/Oklahoma City Hornets\",\n",
    "    'Bilbao Basket Bilbao Basket',\n",
    "    \"Fenerbahce Ulker Fenerbahce Ulker\",\n",
    "    \"Maccabi Haifa Maccabi Haifa\"\n",
    "]\n",
    "\n",
    "# Convert team names in 0020 dataset to abbreviations\n",
    "for i in range(len(salary_20)):\n",
    "    v = salary_20['team'][i]\n",
    "    if v in unknowns:\n",
    "        continue\n",
    "    salary_20.loc[i,'team'] = team_names[v]\n",
    "\n",
    "# Remove unknowns\n",
    "for v in unknowns:\n",
    "    salary_20 = salary_20[salary_20['team'] != v]\n",
    "\n",
    "# Only use players from 2000 onward\n",
    "stats = stats[stats['Year'] >= 2000]\n",
    "\n",
    "\n",
    "# Add salary to stats dataset based on player, year\n",
    "merged_00_to_17 = stats.merge(salary_20, left_on=['Year', 'Player', 'Tm'], right_on=['season', 'name', 'team'])\n",
    "\n",
    "# Drop unused columns that we think are irrelevant from merged dataset\n",
    "merged_00_to_17 = merged_00_to_17.drop(columns = ['Player', 'Pos', 'Tm', '3PAr', 'blanl', 'blank2', 'rank', 'position', 'team', 'name', 'season'])\n",
    "\n",
    "# Replace Nan with 0\n",
    "merged_00_to_17.fillna(0, inplace=True)\n",
    "\n",
    "# display(salary_20.head(10))\n",
    "\n",
    "# display(stats.head(10))\n",
    "\n",
    "# display(merged_00_to_17.head(10))\n",
    "\n",
    "# display(merged_00_to_17.tail(10))\n",
    "\n",
    "# Different datasets to see what produces best predictions\n",
    "# Can either always predict later year or split train, test throughout years\n",
    "\n",
    "merged_10_to_17 = merged_00_to_17[merged_00_to_17['Year'] >= 2010]\n",
    "\n",
    "merged_13_to_17 = merged_00_to_17[merged_00_to_17['Year'] >= 2013]\n",
    "\n",
    "# Using 16 to predict 17\n",
    "\n",
    "merged_16_17 = merged_00_to_17[merged_00_to_17['Year'] >= 2016]\n",
    "\n",
    "# Split within year\n",
    "\n",
    "merged_17 = merged_00_to_17[merged_00_to_17['Year'] >= 2017]\n",
    "\n"
   ]
  },
  {
   "cell_type": "code",
   "execution_count": 103,
   "metadata": {},
   "outputs": [
    {
     "name": "stdout",
     "output_type": "stream",
     "text": [
      "0.06672100194700979\n",
      "0.07426282903940541\n",
      "        Year   Age     G    GS      MP   PER    TS%    FTr  ORB%  DRB%  TRB%  \\\n",
      "2841  2010.0  24.0  82.0  75.0  2221.0  10.9  0.576  0.168   3.1   9.9   6.5   \n",
      "2842  2010.0  24.0  78.0  78.0  2922.0  18.2  0.535  0.260   8.1  18.6  13.3   \n",
      "2843  2010.0  23.0   8.0   0.0    29.0   2.8  0.273  0.500   7.8  11.3   9.6   \n",
      "2844  2010.0  31.0  51.0   3.0   456.0   5.9  0.431  0.112   9.2  11.5  10.4   \n",
      "2845  2010.0  34.0  80.0  80.0  2819.0  15.2  0.601  0.260   2.0   8.8   5.5   \n",
      "...      ...   ...   ...   ...     ...   ...    ...    ...   ...   ...   ...   \n",
      "5987  2017.0  28.0  74.0  74.0  2237.0  14.9  0.562  0.125   6.7  15.8  11.3   \n",
      "5988  2017.0  27.0  51.0   5.0   525.0  13.0  0.508  0.247   9.2  17.0  13.2   \n",
      "5989  2017.0  20.0  19.0   0.0   108.0   7.3  0.346  0.161  10.8  24.9  17.6   \n",
      "5990  2017.0  22.0  44.0  18.0   843.0   6.9  0.503  0.181   1.9  14.2   8.0   \n",
      "5991  2017.0  19.0  38.0  11.0   609.0  17.0  0.547  0.206   7.1  21.9  14.3   \n",
      "\n",
      "      AST%  STL%  BLK%  TOV%  USG%  OWS  DWS   WS  WS/48  OBPM  DBPM  BPM  \\\n",
      "2841   9.3   1.0   1.0  10.5  14.0  2.8  1.4  4.3  0.092   0.8  -0.5  0.3   \n",
      "2842   9.9   1.3   1.3   7.4  22.9  5.5  3.3  8.8  0.145   0.9   0.6  1.6   \n",
      "2843   9.3   1.8   2.6   0.0  11.3  0.0  0.0  0.0  0.030  -5.2   1.5 -3.7   \n",
      "2844   5.1   1.2   0.8  15.3  14.0 -0.3  0.3  0.1  0.009  -4.2  -0.8 -5.0   \n",
      "2845  12.3   1.2   0.7  10.6  20.2  5.1  2.9  7.9  0.135   2.3  -0.7  1.7   \n",
      "...    ...   ...   ...   ...   ...  ...  ...  ...    ...   ...   ...  ...   \n",
      "5987   8.4   2.6   1.2  11.7  16.5  1.9  2.7  4.6  0.099   0.0   1.5  1.5   \n",
      "5988  12.2   0.7   3.3  10.2  16.5  0.5  0.6  1.0  0.094  -3.2   0.8 -2.5   \n",
      "5989   5.3   0.9   3.7   8.3  14.8 -0.1  0.1  0.0 -0.005  -7.8   0.4 -7.3   \n",
      "5990   6.1   0.9   1.5  14.4  14.4 -0.3  0.8  0.5  0.030  -3.6  -0.1 -3.7   \n",
      "5991   8.1   1.1   4.4  10.4  20.3  0.6  0.5  1.1  0.086  -2.7   0.3 -2.5   \n",
      "\n",
      "      VORP     FG     FGA    FG%     3P    3PA    3P%     2P     2PA    2P%  \\\n",
      "2841   1.3  272.0   585.0  0.465  108.0  249.0  0.434  164.0   336.0  0.488   \n",
      "2842   2.6  579.0  1169.0  0.495    5.0   16.0  0.313  574.0  1153.0  0.498   \n",
      "2843   0.0    1.0     6.0  0.167    0.0    1.0  0.000    1.0     5.0  0.200   \n",
      "2844  -0.3   46.0   116.0  0.397    1.0    6.0  0.167   45.0   110.0  0.409   \n",
      "2845   2.6  464.0   973.0  0.477  145.0  399.0  0.363  319.0   574.0  0.556   \n",
      "...    ...    ...     ...    ...    ...    ...    ...    ...     ...    ...   \n",
      "5987   2.0  362.0   687.0  0.527   45.0  118.0  0.381  317.0   569.0  0.557   \n",
      "5988  -0.1   78.0   158.0  0.494    0.0    1.0  0.000   78.0   157.0  0.497   \n",
      "5989  -0.1   10.0    31.0  0.323    0.0    0.0  0.000   10.0    31.0  0.323   \n",
      "5990  -0.4   88.0   221.0  0.398   33.0   99.0  0.333   55.0   122.0  0.451   \n",
      "5991  -0.1  126.0   238.0  0.529    0.0    3.0  0.000  126.0   235.0  0.536   \n",
      "\n",
      "       eFG%     FT    FTA    FT%    ORB    DRB    TRB    AST    STL   BLK  \\\n",
      "2841  0.557   72.0   98.0  0.735   59.0  193.0  252.0  138.0   46.0  30.0   \n",
      "2842  0.497  230.0  304.0  0.757  192.0  435.0  627.0  160.0   67.0  48.0   \n",
      "2843  0.167    2.0    3.0  0.667    2.0    3.0    5.0    2.0    1.0   1.0   \n",
      "2844  0.401   12.0   13.0  0.923   36.0   46.0   82.0   16.0   11.0   5.0   \n",
      "2845  0.551  231.0  253.0  0.913   45.0  208.0  253.0  210.0   64.0  25.0   \n",
      "...     ...    ...    ...    ...    ...    ...    ...    ...    ...   ...   \n",
      "5987  0.560   45.0   86.0  0.523  131.0  318.0  449.0  122.0  114.0  30.0   \n",
      "5988  0.494   22.0   39.0  0.564   43.0   81.0  124.0   42.0    7.0  21.0   \n",
      "5989  0.323    3.0    5.0  0.600   11.0   24.0   35.0    4.0    2.0   5.0   \n",
      "5990  0.473   31.0   40.0  0.775   15.0  110.0  125.0   36.0   15.0  16.0   \n",
      "5991  0.529   32.0   49.0  0.653   41.0  118.0  159.0   30.0   14.0  33.0   \n",
      "\n",
      "        TOV     PF     PTS    salary  Salary_Cap  Percent_of_Cap Salary_Type  \n",
      "2841   74.0  225.0   724.0   1086240    58040000        0.018715     Minimum  \n",
      "2842  104.0  231.0  1393.0   5844827    58040000        0.100703   Mid-Level  \n",
      "2843    0.0    9.0     4.0   2583360    58040000        0.044510     Minimum  \n",
      "2844   22.0   68.0   105.0   1300000    58040000        0.022398     Minimum  \n",
      "2845  129.0  182.0  1304.0  18776860    58040000        0.323516    SuperMax  \n",
      "...     ...    ...     ...       ...         ...             ...         ...  \n",
      "5987   96.0  135.0   814.0  14153652    99093000        0.142832    Standard  \n",
      "5988   20.0   61.0   178.0   8000000    99093000        0.080732   Mid-Level  \n",
      "5989    3.0   17.0    23.0    950000    99093000        0.009587     Minimum  \n",
      "5990   40.0   78.0   240.0    750000    99093000        0.007569     Minimum  \n",
      "5991   30.0   66.0   284.0   1034956    99093000        0.010444     Minimum  \n",
      "\n",
      "[3151 rows x 50 columns]\n"
     ]
    },
    {
     "name": "stderr",
     "output_type": "stream",
     "text": [
      "<ipython-input-103-52036a943faf>:20: SettingWithCopyWarning: \n",
      "A value is trying to be set on a copy of a slice from a DataFrame.\n",
      "Try using .loc[row_indexer,col_indexer] = value instead\n",
      "\n",
      "See the caveats in the documentation: https://pandas.pydata.org/pandas-docs/stable/user_guide/indexing.html#returning-a-view-versus-a-copy\n",
      "  merged_10_to_17['Salary_Cap'] = salary_caps\n"
     ]
    }
   ],
   "source": [
    "salary_caps = []\n",
    "for row in merged_10_to_17['Year']:\n",
    "    if row == 2010:\n",
    "        salary_caps.append(58040000)\n",
    "    elif row == 2011:\n",
    "        salary_caps.append(58044000)\n",
    "    elif row == 2012:\n",
    "        salary_caps.append(58044000)\n",
    "    elif row == 2013:\n",
    "        salary_caps.append(58679000)\n",
    "    elif row == 2014:\n",
    "        salary_caps.append(63065000)\n",
    "    elif row == 2015:\n",
    "        salary_caps.append(70000000)\n",
    "    elif row == 2016:\n",
    "        salary_caps.append(94143000)\n",
    "    elif row == 2017:\n",
    "        salary_caps.append(99093000)\n",
    "\n",
    "merged_10_to_17['Salary_Cap'] = salary_caps\n",
    "\n",
    "\n",
    "data = merged_10_to_17.assign(Percent_of_Cap=lambda x: x.salary/x.Salary_Cap )\n",
    "\n",
    "cap_data = data['Percent_of_Cap'].sort_values()\n",
    "\n",
    "cap_data = np.asarray(cap_data)\n",
    "\n",
    "cap_mean = np.mean(cap_data)\n",
    "\n",
    "print(cap_mean)\n",
    "\n",
    "cap_std = np.std(cap_data)\n",
    "\n",
    "print(cap_std)\n",
    "\n",
    "# print(len(cap_data))\n",
    "\n",
    "\n",
    "# print(\"mean to std1\", ((cap_mean <= cap_data) & (cap_data < cap_mean + cap_std)).sum())\n",
    "\n",
    "# print(\"-std1 to mean\", ((cap_mean - cap_std <= cap_data) & (cap_data < cap_mean)).sum())\n",
    "\n",
    "# print(\"std1 to std2\", ((cap_mean + cap_std <= cap_data) & (cap_data < cap_mean + 2*cap_std)).sum())\n",
    "\n",
    "# print(\"-std2 to -std1\", ((cap_mean - 2*cap_std <= cap_data) & (cap_data < cap_mean - cap_std)).sum())\n",
    "\n",
    "# print(\"std2 to std3\", ((cap_mean + 2*cap_std <= cap_data) & (cap_data < cap_mean + 3*cap_std)).sum())\n",
    "\n",
    "# print(\"std3 to std4\", ((cap_mean + 3*cap_std <= cap_data) & (cap_data < cap_mean + 4*cap_std)).sum())\n",
    "\n",
    "# print(\"std4 to std5\", ((cap_mean + 4*cap_std <= cap_data) & (cap_data < cap_mean + 5*cap_std)).sum())\n",
    "\n",
    "# print(\"std5 to std6\", ((cap_mean + 5*cap_std <= cap_data) & (cap_data < cap_mean + 6*cap_std)).sum())\n",
    "\n",
    "# print(\"std6 to std7\", ((cap_mean + 6*cap_std <= cap_data) & (cap_data < cap_mean + 7*cap_std)).sum())\n",
    "\n",
    "data.loc[(cap_mean - cap_std <= data['Percent_of_Cap'] ) & (data['Percent_of_Cap']  < cap_mean), 'Salary_Type'] = 'Minimum'\n",
    "data.loc[(cap_mean <= data['Percent_of_Cap'] ) & (data['Percent_of_Cap']  < cap_mean + cap_std), 'Salary_Type'] = 'Mid-Level'\n",
    "data.loc[(cap_mean + cap_std <= data['Percent_of_Cap'] ) & (data['Percent_of_Cap']  < cap_mean + 2*cap_std), 'Salary_Type'] = 'Standard'\n",
    "data.loc[(cap_mean + 2*cap_std <= data['Percent_of_Cap'] ) & (data['Percent_of_Cap']  < cap_mean + 3*cap_std), 'Salary_Type'] = 'Max'\n",
    "data.loc[(cap_mean + 3*cap_std <= data['Percent_of_Cap'] ) & (data['Percent_of_Cap']  < cap_mean + 4*cap_std), 'Salary_Type'] = 'SuperMax'\n",
    "data.loc[(cap_mean + 4*cap_std <= data['Percent_of_Cap'] ) & (data['Percent_of_Cap']  < cap_mean + 5*cap_std), 'Salary_Type'] = 'SuperSuperMax'\n",
    "\n",
    "print(data)"
   ]
  },
  {
   "cell_type": "markdown",
   "metadata": {
    "id": "jc4qvRnemz3N"
   },
   "source": [
    "Visualize correlation using Heatmap"
   ]
  },
  {
   "cell_type": "markdown",
   "metadata": {
    "id": "nOx2E4wwn38G"
   },
   "source": [
    "Pairplot with MP"
   ]
  },
  {
   "cell_type": "code",
   "execution_count": 54,
   "metadata": {},
   "outputs": [
    {
     "data": {
      "text/plain": [
       "<AxesSubplot:>"
      ]
     },
     "execution_count": 54,
     "metadata": {},
     "output_type": "execute_result"
    },
    {
     "data": {
      "image/png": "[encoded data removed]",
      "text/plain": [
       "<Figure size 720x720 with 2 Axes>"
      ]
     },
     "metadata": {
      "needs_background": "light"
     },
     "output_type": "display_data"
    }
   ],
   "source": [
    "# Filter out some outliers in order to make better predictions\n",
    "data = merged_00_to_17[merged_00_to_17['Year'] == TRAINING_YEAR]\n",
    "data = data.drop(['Year'], axis=1)\n",
    "# heatmap for correlation\n",
    "fig, ax = plt.subplots(figsize=(10, 10))\n",
    "\n",
    "sb.heatmap(data.corr(), vmin=-1, vmax=1, center= 0, linewidths=.5, xticklabels=True, yticklabels=True)\n",
    "\n",
    "# # Max is usually calculated by Q3 + 1.5 * IQR, where IQR = Q3 - Q1\n",
    "# q3, q1 = np.quantile(data['salary'], [0.75, 0.25])\n",
    "# local_max = q3 + 1.5 * (q3 - q1)\n",
    "# print(local_max)\n",
    "# data = data.reset_index(drop=True)\n",
    "# sb.boxplot(data['salary'])\n",
    "\n",
    "# # Get rid of outliers\n",
    "# data = data[data['salary'] <= local_max]"
   ]
  },
  {
   "cell_type": "code",
   "execution_count": 57,
   "metadata": {
    "colab": {
     "base_uri": "https://localhost:8080/",
     "height": 424
    },
    "id": "qAMHZlDkoW7A",
    "outputId": "5c02fa46-86d4-4fed-eb90-7786bdf99df7"
   },
   "outputs": [
    {
     "name": "stdout",
     "output_type": "stream",
     "text": [
      "Index(['TOV', 'FGA', '2P', 'FT', 'FTA', '2PA', 'FG', 'PTS'], dtype='object')\n"
     ]
    }
   ],
   "source": [
    "# Only need the salary column, and take out the correlation with salary itself\n",
    "correlation = abs(data.corr()['salary'][:-1])\n",
    "\n",
    "# Get the sorted index of correlation\n",
    "attribute_rank = np.argsort(correlation)\n",
    "\n",
    "# Get the most relevant attributes\n",
    "relevant_attributes = attribute_rank.index[attribute_rank[-ATTRIBUTE_SIZE:]]\n",
    "print(relevant_attributes)\n",
    "\n",
    "df_salary = data.copy()\n",
    "# df_salary = pd.DataFrame(preprocessing.OrdinalEncoder().fit_transform(df_salary), columns=df_salary.columns)\n",
    "# # OrdinalEncoder will skip numerical values. LabelEncoder also works as they share the same functionality.\n",
    "# display(df_salary[relevant_attributes])\n"
   ]
  },
  {
   "cell_type": "code",
   "execution_count": 59,
   "metadata": {
    "colab": {
     "base_uri": "https://localhost:8080/"
    },
    "id": "h7ETvv4vqSdP",
    "outputId": "f3a51223-d1a3-42b3-d88d-5237da1832e8"
   },
   "outputs": [
    {
     "name": "stdout",
     "output_type": "stream",
     "text": [
      "         PTS     FT     2P     FG    WS    GS    TRB    TOV    AST\n",
      "4959  1164.0  193.0  355.0  442.0   4.8  63.0  430.0  115.0  124.0\n",
      "4933   640.0  132.0  254.0  254.0   4.8  17.0  396.0   77.0   71.0\n",
      "5131   523.0   82.0   84.0  175.0   2.9  38.0  222.0   90.0  208.0\n",
      "4923   169.0   21.0   74.0   74.0   1.6   8.0  191.0   23.0   16.0\n",
      "4829   264.0   30.0   48.0   94.0   2.1  19.0  115.0   11.0   47.0\n",
      "...      ...    ...    ...    ...   ...   ...    ...    ...    ...\n",
      "5025   286.0   37.0  114.0  121.0   1.3   6.0  207.0   35.0   46.0\n",
      "4941  1001.0  123.0  439.0  439.0   8.6  82.0  717.0  100.0   97.0\n",
      "5099   201.0   22.0   25.0   68.0   1.2   3.0   80.0   47.0  104.0\n",
      "4825   274.0   50.0  112.0  112.0   2.2  27.0  241.0   29.0   34.0\n",
      "4988  1743.0  375.0  504.0  624.0  10.4  69.0  416.0  272.0  511.0\n",
      "\n",
      "[329 rows x 9 columns]\n"
     ]
    }
   ],
   "source": [
    "salary_train, salary_test = train_test_split(df_salary, test_size=0.2)\n",
    "X_salary_train, y_salary_train = salary_train[['PTS', 'FT', '2P', 'FG', 'WS', 'GS', 'TRB', 'TOV', 'AST']], salary_train['salary']\n",
    "X_salary_test, y_salary_test = salary_test[['PTS', 'FT', '2P', 'FG', 'WS', 'GS', 'TRB', 'TOV', 'AST']], salary_test['salary']\n",
    "print(X_salary_train)"
   ]
  },
  {
   "cell_type": "code",
   "execution_count": null,
   "metadata": {
    "colab": {
     "base_uri": "https://localhost:8080/",
     "height": 1000
    },
    "id": "tfATGx03qCS8",
    "outputId": "5e6ad98a-a658-4e0f-86f3-3afe019f3234"
   },
   "outputs": [],
   "source": []
  },
  {
   "cell_type": "code",
   "execution_count": null,
   "metadata": {},
   "outputs": [],
   "source": []
  }
 ],
 "metadata": {
  "colab": {
   "provenance": [],
   "toc_visible": true
  },
  "kernelspec": {
   "display_name": "Python 3",
   "language": "python",
   "name": "python3"
  },
  "language_info": {
   "codemirror_mode": {
    "name": "ipython",
    "version": 3
   },
   "file_extension": ".py",
   "mimetype": "text/x-python",
   "name": "python",
   "nbconvert_exporter": "python",
   "pygments_lexer": "ipython3",
   "version": "3.8.8"
  }
 },
 "nbformat": 4,
 "nbformat_minor": 1
}
